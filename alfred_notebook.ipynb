{
 "cells": [
  {
   "cell_type": "code",
   "execution_count": null,
   "outputs": [],
   "source": [
    "from alfred.speech import Speech\n",
    "\n",
    "speech = Speech()"
   ],
   "metadata": {
    "collapsed": false,
    "pycharm": {
     "name": "#%%\n"
    }
   }
  },
  {
   "cell_type": "code",
   "execution_count": null,
   "outputs": [],
   "source": [
    "transcript = speech.transcribe_from_uri(\"gs://maro_bucket/Juan1.wav\")"
   ],
   "metadata": {
    "collapsed": false,
    "pycharm": {
     "name": "#%%\n"
    }
   }
  },
  {
   "cell_type": "code",
   "execution_count": 3,
   "outputs": [
    {
     "data": {
      "text/plain": "[[1, 'Aló buenas tardes'],\n [2, 'buenas tardes condomaris'],\n [1, ' sí con ella con quién hablo'],\n [2, ' Damaris con Juan Antonio Morales de platzi cómo estás'],\n [2, ' muy bien muchas gracias'],\n [1,\n  ' bien cómo estás cómo te ha ido eh quieres que nos reundamos ya no tienes tiempo a las 3:30'],\n [2,\n  ' eh Damaris es que yo tengo reuniones todo el día entonces por eso enviamos el link como para que puedas agendar un espacio sin embargo como que vi el interés urgente tener una respuesta de parte tuya y por eso bueno antes de entrar a otra reunión me comunicó a ver si en qué te puedo ayudar como pararse un poco de luz'],\n [1,\n  ' mira lo que nosotros necesitamos es estamos haciendo una cotización porque queremos capacitar a nuestros a nuestros colaboradores eh somos una empresa de marketing y son más o menos $35 colaboradores ellos ya son diseñadores gráficos pero entonces queremos reforzar sus conocimientos en marketing digital en en la plataforma que tienen y queremos saber qué tan amigable la plataforma qué costo tiene para este año si es una licencia por persona o si es una licencia por varias personas si nosotros podemos entrar a la plataforma y desde la plataforma visualizar el el crecimiento que está teniendo cada colaborador y si sí está asistiendo a las clases y todo'],\n [2,\n  ' claro que sí tú tienes acceso a un dashboard donde vas a poder dar el seguimiento de última hora de acceso cuánto tiempo le han invertido qué cursos están viendo actualmente y su porcentaje de rendimiento ver la certificación es decir tú tienes seguimiento a la inversión total en cuanto a la académico y y en cuanto si se llega a retirar alguno de tus colaboradores de la compañía por X o ya razón tú puedes reasignar esa licencia a cualquier otro que reemplace la función por lo que se restantes también dependiendo por ejemplo si es un plan business poder tener el acompañamiento estratégico de parte nuestra y académico con manager que es una persona profesional en el desarrollo de rutas de de aprendizaje personalizadas entonces si tú quieres enfocar a personas de diseño gráfico en marketing pues tú ya vas a poder diseñar rutas de aprendizaje enfocados en que quieres que cumpla estos cursos enfocados en marketing en desarrollo porque el desarrollador debes hablar de marketing y viceversa habilidades blandas inglés y demás temas porque igual la plataforma va'],\n [2,\n  ' más de 1,500 cursos habilitados para ti desde habilidades técnicas y estabilidades blandas de'],\n [1, 'listo y qué costo tiene'],\n [2, ' vale eh tú estás'],\n [1, ' para ese pool de personas que te digo'],\n [1, ' sí'],\n [1, ' sí'],\n [1, ' sí listo sí'],\n [2,\n  ' mira tengo una propuesta que te podría entre eh sale un poco más económico pues porque es una propuesta sin embargo te puedes dar una idea por este link que te estoy enviando por medio del chat en este caso vas a notar que está ahí hay tres planes el plantín el plan business y el plan Enterprise de acuerdo la diferencia está basada en que entre mayor cantidad de licencias mayor capacidad de control y características adicionales en cuanto alcanzar un objetivo vas a necesitar así que en este caso el acompañamiento estratégico que usted menciono aparece a partir del plan pista tú tienes algún tema de presupuesto definido y fecha'],\n [1,\n  ' no tenemos un presupuesto definido pero en otras cotizaciones nos han cotizado 65 pesos 75 dólares como por licencia por persona no estoy segura entonces no sé si contigo voy a manejar presos colombianos y cuánto me costaría y una licencia para cuántos alcanza si alcanza por ejemplo no sé para tres pero de los tres se me fue uno puedo reasignar a otra persona esa licencia'],\n [2,\n  ' por supuesto tú la puedes asignar es lo que te acaba de mencionar que si por X suyo se retiran tú la puedas reasignar de acuerdo'],\n [1, ' ah listo entonces en esos'],\n [2,\n  ' dame ha- hagamos hagamos una cosa hagamos una cosa eh puedes ingresar a un zoom en este momento'],\n [2, ' y vale sí'],\n [1,\n  ' sí dame dame 10 me puedes dar 10 minutos 5 minutos mientras desconecto mándame el zumillo y ya me conecto'],\n [2, ' vale listo ya nos vemos'],\n [1, ' y podemos invitar a a la chica de recursos humanos'],\n [1, ' con eso de una de las hemos formal'],\n [2,\n  ' eh sí yo te envío el link y compártele el y compártele el link acá te lo acabo de enviar ya nos vemos'],\n [2, ' vale'],\n [2, ' perfecto hasta luego'],\n [1, ' con ella listo okay en 5 minutos nos conectamos vale chao'],\n [2, ' chao'],\n [1, ''],\n [2, '']]"
     },
     "execution_count": 3,
     "metadata": {},
     "output_type": "execute_result"
    }
   ],
   "source": [
    "trans"
   ],
   "metadata": {
    "collapsed": false
   }
  },
  {
   "cell_type": "code",
   "execution_count": null,
   "outputs": [],
   "source": [],
   "metadata": {
    "collapsed": false
   }
  }
 ],
 "metadata": {
  "kernelspec": {
   "display_name": "Python 3",
   "language": "python",
   "name": "python3"
  },
  "language_info": {
   "codemirror_mode": {
    "name": "ipython",
    "version": 2
   },
   "file_extension": ".py",
   "mimetype": "text/x-python",
   "name": "python",
   "nbconvert_exporter": "python",
   "pygments_lexer": "ipython2",
   "version": "2.7.6"
  }
 },
 "nbformat": 4,
 "nbformat_minor": 0
}